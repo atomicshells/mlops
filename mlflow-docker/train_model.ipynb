{
 "cells": [
  {
   "cell_type": "code",
   "execution_count": null,
   "metadata": {},
   "outputs": [],
   "source": [
    "import mlflow\n",
    "import mlflow.sklearn\n",
    "import pandas as pd\n",
    "from sklearn.ensemble import RandomForestRegressor\n",
    "from sklearn.model_selection import train_test_split\n",
    "from sklearn.metrics import mean_squared_error\n",
    "\n",
    "# Set MLflow Tracking URI (connects to running MLflow server in Docker)\n",
    "mlflow.set_tracking_uri(\"http://localhost:5000\")\n",
    "\n",
    "with mlflow.start_run():\n",
    "    # Load data\n",
    "    data = pd.read_csv(\"data/data.csv\")\n",
    "    X = data.drop(columns=[\"Global Innovation Score\"])\n",
    "    y = data[\"Global Innovation Score\"]\n",
    "\n",
    "    # Train-test split\n",
    "    X_train, X_test, y_train, y_test = train_test_split(X, y, test_size=0.2, random_state=42)\n",
    "\n",
    "    # Train model\n",
    "    model = RandomForestRegressor(n_estimators=50)\n",
    "    model.fit(X_train, y_train)\n",
    "\n",
    "    # Predict and calculate error\n",
    "    predictions = model.predict(X_test)\n",
    "    mse = mean_squared_error(y_test, predictions)\n",
    "\n",
    "    # Log parameters and metrics\n",
    "    mlflow.log_param(\"n_estimators\", 50)\n",
    "    mlflow.log_metric(\"mse\", mse)\n",
    "\n",
    "    # Log model\n",
    "    mlflow.sklearn.log_model(model, \"model\")\n",
    "\n",
    "    # Register model to Model Registry\n",
    "    result = mlflow.register_model(f\"runs:/{mlflow.active_run().info.run_id}/model\", \"GlobalInnovationModel\")\n",
    "\n",
    "    print(f\"Model registered as: {result.name} - Version {result.version}\")\n"
   ]
  }
 ],
 "metadata": {
  "kernelspec": {
   "display_name": ".venv",
   "language": "python",
   "name": "python3"
  },
  "language_info": {
   "name": "python",
   "version": "3.13.1"
  }
 },
 "nbformat": 4,
 "nbformat_minor": 2
}
